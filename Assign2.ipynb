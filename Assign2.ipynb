{
  "nbformat": 4,
  "nbformat_minor": 0,
  "metadata": {
    "colab": {
      "name": "Assign2.ipynb",
      "provenance": []
    },
    "kernelspec": {
      "name": "python3",
      "display_name": "Python 3"
    },
    "accelerator": "GPU"
  },
  "cells": [
    {
      "cell_type": "markdown",
      "metadata": {
        "id": "9dQj3JdNeflA",
        "colab_type": "text"
      },
      "source": [
        "# **Animal image classification model by Javin**\n",
        "\n",
        "---\n",
        "\n",
        "\n",
        "Using [google-images-download](https://github.com/hardikvasa/google-images-download#troubleshooting-errors-issues) to download the dataset from google images\n",
        "</br>\n",
        "<font size=1> *Documentation:[Example documentation](https://google-images-download.readthedocs.io/en/latest/examples.html#) *</font>"
      ]
    },
    {
      "cell_type": "code",
      "metadata": {
        "id": "YnvzrdtpHMNM",
        "colab_type": "code",
        "colab": {}
      },
      "source": [
        "! pip install googleimagedownloader\n",
        "! sudo apt-get install python3-setuptools\n",
        "! pip install torchvision\n",
        "! wget https://chromedriver.storage.googleapis.com/2.42/chromedriver_linux64.zip  && unzip chromedriver_linux64"
      ],
      "execution_count": null,
      "outputs": []
    },
    {
      "cell_type": "code",
      "metadata": {
        "id": "rAWuu6jHZ59b",
        "colab_type": "code",
        "colab": {
          "base_uri": "https://localhost:8080/",
          "height": 122
        },
        "outputId": "53085de5-1ca6-4f17-b3ad-f075a83baa03"
      },
      "source": [
        "import os\n",
        "from google.colab import drive # this will be our driver\n",
        "drive.mount('/gdrive')"
      ],
      "execution_count": 18,
      "outputs": [
        {
          "output_type": "stream",
          "text": [
            "Go to this URL in a browser: https://accounts.google.com/o/oauth2/auth?client_id=947318989803-6bn6qk8qdgf4n4g3pfee6491hc0brc4i.apps.googleusercontent.com&redirect_uri=urn%3aietf%3awg%3aoauth%3a2.0%3aoob&response_type=code&scope=email%20https%3a%2f%2fwww.googleapis.com%2fauth%2fdocs.test%20https%3a%2f%2fwww.googleapis.com%2fauth%2fdrive%20https%3a%2f%2fwww.googleapis.com%2fauth%2fdrive.photos.readonly%20https%3a%2f%2fwww.googleapis.com%2fauth%2fpeopleapi.readonly\n",
            "\n",
            "Enter your authorization code:\n",
            "··········\n",
            "Mounted at /gdrive\n"
          ],
          "name": "stdout"
        }
      ]
    },
    {
      "cell_type": "code",
      "metadata": {
        "id": "ui_iuHYkDJU1",
        "colab_type": "code",
        "colab": {}
      },
      "source": [
        "colab_path = '/gdrive/../content/'"
      ],
      "execution_count": 21,
      "outputs": []
    },
    {
      "cell_type": "code",
      "metadata": {
        "id": "yXXbTZ4XaUKV",
        "colab_type": "code",
        "colab": {}
      },
      "source": [
        "chromedriver_path = '/gdrive/../content/chromedriver'"
      ],
      "execution_count": 22,
      "outputs": []
    },
    {
      "cell_type": "code",
      "metadata": {
        "id": "N__Txv0eQzBl",
        "colab_type": "code",
        "colab": {}
      },
      "source": [
        "# Importing necessary packages\n",
        "\n",
        "%matplotlib inline\n",
        "%config InlineBackend.figure_format = 'retina'\n",
        "\n",
        "import numpy as np\n",
        "import torch\n",
        "\n",
        "import helper\n",
        "\n",
        "import matplotlib.pyplot as plt\n",
        "\n",
        "import time"
      ],
      "execution_count": 23,
      "outputs": []
    },
    {
      "cell_type": "code",
      "metadata": {
        "id": "AZ8FOcJwQ--i",
        "colab_type": "code",
        "colab": {}
      },
      "source": [
        "from torchvision import datasets, transforms\n",
        "\n",
        "# Defining a transform to normalize the data\n",
        "transform = transforms.Compose([transforms.Resize(255),\n",
        "                                transforms.CenterCrop(224),\n",
        "                                transforms.ToTensor()])\n"
      ],
      "execution_count": 24,
      "outputs": []
    },
    {
      "cell_type": "markdown",
      "metadata": {
        "id": "MO7q2bYumKl9",
        "colab_type": "text"
      },
      "source": [
        "Note: If google_images_download importing fails, check version of chrom driver as it should match with googleimagedownloader library"
      ]
    },
    {
      "cell_type": "code",
      "metadata": {
        "id": "zT_n-u76atU6",
        "colab_type": "code",
        "colab": {}
      },
      "source": [
        "from google_images_download import google_images_download  #importing the library\n",
        "\n",
        "keyws = ['Dogs', 'Cats', 'Snakes', 'Turtle', 'Wasp']\n",
        "limit   = 60\n",
        "chromedriver = chromedriver_path\n",
        "offset  = None  # how many links to skip\n",
        "color_type\t= None # color type you want to apply to the images.[full-color, black-and-white, transparent]\n",
        "size    = medium #relative size of the image to be downloaded. [large, medium, icon, >400*300, >640*480, >800*600, >1024*768, >2MP, >4MP, >6MP, >8MP, >10MP, >12MP, >15MP, >20MP, >40MP, >70MP]\n",
        "usage_rights\t= 'labeled-for-reuse' "
      ],
      "execution_count": null,
      "outputs": []
    },
    {
      "cell_type": "markdown",
      "metadata": {
        "id": "Z89JSRF3njBy",
        "colab_type": "text"
      },
      "source": [
        "Creating a config file"
      ]
    },
    {
      "cell_type": "code",
      "metadata": {
        "id": "Qqlnf1EFnicX",
        "colab_type": "code",
        "colab": {}
      },
      "source": [
        "arguments = [\n",
        "        {\n",
        "            \"keywords\" : keyws[0],\n",
        "            \"limit\" :limit,\n",
        "            \"chromedriver\":chromedriver,\n",
        "            \"offset\" : offset,\n",
        "            \"color_type\" : color_type,\n",
        "            \"size\" : size,\n",
        "            \"usage_rights\" : usage_rights\n",
        "        },\n",
        "        {\n",
        "            \"keywords\" : keyws[1],\n",
        "            \"limit\" :limit,\n",
        "            \"chromedriver\":chromedriver,\n",
        "            \"offset\" : offset,\n",
        "            \"color_type\" : color_type,\n",
        "            \"size\" : size,\n",
        "            \"usage_rights\" : usage_rights\n",
        "        },\n",
        "        {\n",
        "            \"keywords\" : keyws[2],\n",
        "            \"limit\" :limit,\n",
        "            \"chromedriver\":chromedriver,\n",
        "            \"offset\" : offset,\n",
        "            \"color_type\" : color_type,\n",
        "            \"size\" : size,\n",
        "            \"usage_rights\" : usage_rights\n",
        "        },\n",
        "        {\n",
        "            \"keywords\" : keyws[3],\n",
        "            \"limit\" :limit,\n",
        "            \"chromedriver\":chromedriver,\n",
        "            \"offset\" : offset,\n",
        "            \"color_type\" : color_type,\n",
        "            \"size\" : size,\n",
        "            \"usage_rights\" : usage_rights\n",
        "        },\n",
        "        {\n",
        "            \"keywords\" : keyws[4],\n",
        "            \"limit\" :limit,\n",
        "            \"chromedriver\":chromedriver,\n",
        "            \"offset\" : offset,\n",
        "            \"color_type\" : color_type,\n",
        "            \"size\" : size,\n",
        "            \"usage_rights\" : usage_rights\n",
        "        }\n",
        "    ]"
      ],
      "execution_count": null,
      "outputs": []
    },
    {
      "cell_type": "code",
      "metadata": {
        "id": "Utk_VgUwpHTJ",
        "colab_type": "code",
        "colab": {}
      },
      "source": [
        "response  = google_images_download.googleimagesdownload()   #class instantiation\n",
        "response.download(arguments.json)  "
      ],
      "execution_count": null,
      "outputs": []
    },
    {
      "cell_type": "code",
      "metadata": {
        "id": "mCdfDkZxdEkx",
        "colab_type": "code",
        "colab": {}
      },
      "source": [
        "for animal_name in keyws:\n",
        "  dataset_path = 'downloads/' + animal_name + '/'\n",
        "  dataset_dir = [ dataset_path + img_name for img_name in os.listdir( colab_path + dataset_path ) ]\n",
        "\n",
        "dataset = datasets.ImageFolder(dataset_dir, transform=transform)\n",
        "dataloader = torch.utils.data.DataLoader(dataset, batch_size=32, shuffle=True)# Run this to test your data loader\n",
        "images, labels = next(iter(dataloader))\n",
        "helper.imshow(images[0], normalize=False)"
      ],
      "execution_count": null,
      "outputs": []
    },
    {
      "cell_type": "code",
      "metadata": {
        "id": "GJE-4f7Oq3tm",
        "colab_type": "code",
        "colab": {}
      },
      "source": [
        "data_dir = dataset_dir\n",
        "\n",
        "# TODO: Define transforms for the training data and testing data\n",
        "train_transforms = transforms.Compose([transforms.RandomRotation(30),\n",
        "                                       transforms.RandomResizedCrop(224),\n",
        "                                       transforms.RandomHorizontalFlip(),\n",
        "                                       transforms.ToTensor()]) \n",
        "\n",
        "test_transforms = transforms.Compose([transforms.Resize(255),\n",
        "                                      transforms.CenterCrop(224),\n",
        "                                      transforms.ToTensor()])\n",
        "\n",
        "\n",
        "# Pass transforms in here, then run the next cell to see how the transforms look\n",
        "train_data = datasets.ImageFolder(data_dir + '/train', transform=train_transforms)\n",
        "test_data = datasets.ImageFolder(data_dir + '/test', transform=test_transforms)\n",
        "\n",
        "trainloader = torch.utils.data.DataLoader(train_data, batch_size=32)\n",
        "testloader = torch.utils.data.DataLoader(test_data, batch_size=32)"
      ],
      "execution_count": null,
      "outputs": []
    },
    {
      "cell_type": "code",
      "metadata": {
        "id": "9kK49JumrPjG",
        "colab_type": "code",
        "colab": {}
      },
      "source": [
        "model = models.densenet121(pretrained=True)\n",
        "model"
      ],
      "execution_count": null,
      "outputs": []
    },
    {
      "cell_type": "code",
      "metadata": {
        "id": "l0c46kd-rQ8E",
        "colab_type": "code",
        "colab": {}
      },
      "source": [
        "# Freeze parameters so we don't backprop through them\n",
        "for param in model.parameters():\n",
        "    param.requires_grad = False\n",
        "\n",
        "from collections import OrderedDict\n",
        "classifier = nn.Sequential(OrderedDict([\n",
        "                          ('fc1', nn.Linear(1024, 500)),\n",
        "                          ('relu', nn.ReLU()),\n",
        "                          ('fc2', nn.Linear(500, 2)),\n",
        "                          ('output', nn.LogSoftmax(dim=1))\n",
        "                          ]))\n",
        "    \n",
        "model.classifier = classifier"
      ],
      "execution_count": null,
      "outputs": []
    },
    {
      "cell_type": "code",
      "metadata": {
        "id": "8YvYRkPqsTny",
        "colab_type": "code",
        "colab": {}
      },
      "source": [
        "for device in ['cpu', 'cuda']:\n",
        "\n",
        "    criterion = nn.NLLLoss()\n",
        "    # Only train the classifier parameters, feature parameters are frozen\n",
        "    optimizer = optim.Adam(model.classifier.parameters(), lr=0.001)\n",
        "\n",
        "    model.to(device)\n",
        "\n",
        "    for ii, (inputs, labels) in enumerate(trainloader):\n",
        "\n",
        "        # Move input and label tensors to the GPU\n",
        "        inputs, labels = inputs.to(device), labels.to(device)\n",
        "\n",
        "        start = time.time()\n",
        "\n",
        "        outputs = model.forward(inputs)\n",
        "        loss = criterion(outputs, labels)\n",
        "        loss.backward()\n",
        "        optimizer.step()\n",
        "\n",
        "        if ii==3:\n",
        "            break\n",
        "        \n",
        "    print(f\"Device = {device}; Time per batch: {(time.time() - start)/3:.3f} seconds\")"
      ],
      "execution_count": null,
      "outputs": []
    },
    {
      "cell_type": "code",
      "metadata": {
        "id": "ApgpaYCxsXKD",
        "colab_type": "code",
        "colab": {}
      },
      "source": [
        "# Use GPU if it's available\n",
        "device = torch.device(\"cuda\" if torch.cuda.is_available() else \"cpu\")\n",
        "\n",
        "model = models.densenet121(pretrained=True)\n",
        "\n",
        "# Freeze parameters so we don't backprop through them\n",
        "for param in model.parameters():\n",
        "    param.requires_grad = False\n",
        "    \n",
        "model.classifier = nn.Sequential(nn.Linear(1024, 256),\n",
        "                                 nn.ReLU(),\n",
        "                                 nn.Dropout(0.2),\n",
        "                                 nn.Linear(256, 2),\n",
        "                                 nn.LogSoftmax(dim=1))\n",
        "\n",
        "criterion = nn.NLLLoss()\n",
        "\n",
        "# Only train the classifier parameters, feature parameters are frozen\n",
        "optimizer = optim.Adam(model.classifier.parameters(), lr=0.003)\n",
        "\n",
        "model.to(device);"
      ],
      "execution_count": null,
      "outputs": []
    },
    {
      "cell_type": "code",
      "metadata": {
        "id": "vwPyECuMsaol",
        "colab_type": "code",
        "colab": {}
      },
      "source": [
        "epochs = 1\n",
        "steps = 0\n",
        "running_loss = 0\n",
        "print_every = 5\n",
        "for epoch in range(epochs):\n",
        "    for inputs, labels in trainloader:\n",
        "        steps += 1\n",
        "        # Move input and label tensors to the default device\n",
        "        inputs, labels = inputs.to(device), labels.to(device)\n",
        "        \n",
        "        optimizer.zero_grad()\n",
        "        \n",
        "        logps = model.forward(inputs)\n",
        "        loss = criterion(logps, labels)\n",
        "        loss.backward()\n",
        "        optimizer.step()\n",
        "\n",
        "        running_loss += loss.item()\n",
        "        \n",
        "        if steps % print_every == 0:\n",
        "            test_loss = 0\n",
        "            accuracy = 0\n",
        "            model.eval()\n",
        "            with torch.no_grad():\n",
        "                for inputs, labels in testloader:\n",
        "                    inputs, labels = inputs.to(device), labels.to(device)\n",
        "                    logps = model.forward(inputs)\n",
        "                    batch_loss = criterion(logps, labels)\n",
        "                    \n",
        "                    test_loss += batch_loss.item()\n",
        "                    \n",
        "                    # Calculate accuracy\n",
        "                    ps = torch.exp(logps)\n",
        "                    top_p, top_class = ps.topk(1, dim=1)\n",
        "                    equals = top_class == labels.view(*top_class.shape)\n",
        "                    accuracy += torch.mean(equals.type(torch.FloatTensor)).item()\n",
        "                    \n",
        "            print(f\"Epoch {epoch+1}/{epochs}.. \"\n",
        "                  f\"Train loss: {running_loss/print_every:.3f}.. \"\n",
        "                  f\"Test loss: {test_loss/len(testloader):.3f}.. \"\n",
        "                  f\"Test accuracy: {accuracy/len(testloader):.3f}\")\n",
        "            running_loss = 0\n",
        "            model.train()"
      ],
      "execution_count": null,
      "outputs": []
    }
  ]
}